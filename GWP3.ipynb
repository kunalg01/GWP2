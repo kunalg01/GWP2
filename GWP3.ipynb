{
 "cells": [
  {
   "cell_type": "code",
   "execution_count": 84,
   "id": "957aeec4",
   "metadata": {},
   "outputs": [
    {
     "data": {
      "text/html": [
       "<style>.container { width:100% !important; }</style>"
      ],
      "text/plain": [
       "<IPython.core.display.HTML object>"
      ]
     },
     "metadata": {},
     "output_type": "display_data"
    }
   ],
   "source": [
    "from IPython.core.display import display, HTML\n",
    "from IPython.display import display\n",
    "display(HTML(\"<style>.container { width:100% !important; }</style>\"))"
   ]
  },
  {
   "cell_type": "code",
   "execution_count": 83,
   "id": "012f7e57",
   "metadata": {},
   "outputs": [],
   "source": [
    "import yfinance as yf\n",
    "import pandas as pd\n",
    "#import garch\n",
    "import datetime\n",
    "import warnings\n",
    "import investpy\n",
    "import statistics\n",
    "import numpy as np\n",
    "import matplotlib.pyplot as plt\n",
    "import arch\n",
    "from arch import arch_model\n",
    "warnings.simplefilter('ignore')    "
   ]
  },
  {
   "cell_type": "code",
   "execution_count": 59,
   "id": "c3af5752",
   "metadata": {},
   "outputs": [],
   "source": [
    "import arch\n",
    "#import holidays\n",
    "import pmdarima\n",
    "import pandas as pd\n",
    "import numpy as np\n",
    "from pandas import Series, DataFrame\n",
    "import matplotlib.pyplot as plt\n",
    "import seaborn as sns\n",
    "from scipy import stats\n",
    "from datetime import datetime\n",
    "from statsmodels.tsa.arima.model import ARIMA\n",
    "from statsmodels.tsa.statespace.varmax import VARMAX\n",
    "from statsmodels.tsa.stattools import adfuller, coint\n",
    "from statsmodels.tsa.vector_ar.vecm import VECM\n",
    "from sklearn import preprocessing\n",
    "%matplotlib inline"
   ]
  },
  {
   "cell_type": "markdown",
   "id": "6821b160",
   "metadata": {},
   "source": [
    "# 1. Data importing"
   ]
  },
  {
   "cell_type": "code",
   "execution_count": 60,
   "id": "934a0e86",
   "metadata": {},
   "outputs": [],
   "source": [
    "##Gold, Equity ETF, and Bitcoin data importing for full 2020##\n",
    "gold_2020_df = investpy.get_etf_historical_data(etf='Perth Mint Physical Gold', country='United States', from_date='01/01/2020', to_date='31/12/2020')\n",
    "equity_2020_df = investpy.get_etf_historical_data(etf='Vanguard FTSE Developed Markets', country='United States', from_date='01/01/2020', to_date='31/12/2020')\n",
    "bitcoin_2020_df = investpy.get_crypto_historical_data(crypto='bitcoin', from_date='01/01/2020', to_date='31/12/2020')\n",
    "\n",
    "##Gold, equity and bitcoin prices for Apr-Dec 2020##\n",
    "gold_df = investpy.get_etf_historical_data(etf='Perth Mint Physical Gold', country='United States', from_date='01/04/2020', to_date='31/12/2020')\n",
    "gold_df['Date1'] = gold_df.index\n",
    "equity_df = investpy.get_etf_historical_data(etf='Vanguard FTSE Developed Markets', country='United States', from_date='01/04/2020', to_date='31/12/2020')\n",
    "equity_df['Date1'] = equity_df.index\n",
    "bitcoin_df = investpy.get_crypto_historical_data(crypto='bitcoin', from_date='01/04/2020', to_date='31/12/2020')\n",
    "bitcoin_df['Date1'] = bitcoin_df.index"
   ]
  },
  {
   "cell_type": "code",
   "execution_count": 61,
   "id": "22663c46",
   "metadata": {},
   "outputs": [],
   "source": [
    "missing = set(equity_2020_df.index) - set(gold_2020_df.index)\n",
    "def remove_missing_days(df, indices, missing):\n",
    "    return df.loc[[index for index in indices if index not in missing]]"
   ]
  },
  {
   "cell_type": "code",
   "execution_count": 62,
   "id": "82a2e7cd",
   "metadata": {},
   "outputs": [],
   "source": [
    "gold_2020_df = remove_missing_days(gold_2020_df, equity_2020_df.index, missing)\n",
    "equity_2020_df = remove_missing_days(equity_2020_df, equity_2020_df.index, missing)\n",
    "bitcoin_2020_df = remove_missing_days(bitcoin_2020_df, equity_2020_df.index, missing)"
   ]
  },
  {
   "cell_type": "code",
   "execution_count": 63,
   "id": "15a4015c",
   "metadata": {},
   "outputs": [
    {
     "ename": "AssertionError",
     "evalue": "",
     "output_type": "error",
     "traceback": [
      "\u001b[1;31m---------------------------------------------------------------------------\u001b[0m",
      "\u001b[1;31mAssertionError\u001b[0m                            Traceback (most recent call last)",
      "\u001b[1;32m<ipython-input-63-3eeba467925a>\u001b[0m in \u001b[0;36m<module>\u001b[1;34m\u001b[0m\n\u001b[0;32m      1\u001b[0m \u001b[1;32massert\u001b[0m \u001b[0mequity_2020_df\u001b[0m\u001b[1;33m.\u001b[0m\u001b[0mshape\u001b[0m \u001b[1;33m==\u001b[0m \u001b[0mgold_2020_df\u001b[0m\u001b[1;33m.\u001b[0m\u001b[0mshape\u001b[0m\u001b[1;33m\u001b[0m\u001b[1;33m\u001b[0m\u001b[0m\n\u001b[1;32m----> 2\u001b[1;33m \u001b[1;32massert\u001b[0m \u001b[0mequity_2020_df\u001b[0m\u001b[1;33m.\u001b[0m\u001b[0mshape\u001b[0m \u001b[1;33m==\u001b[0m \u001b[0mbitcoin_2020_df\u001b[0m\u001b[1;33m.\u001b[0m\u001b[0mshape\u001b[0m\u001b[1;33m\u001b[0m\u001b[1;33m\u001b[0m\u001b[0m\n\u001b[0m",
      "\u001b[1;31mAssertionError\u001b[0m: "
     ]
    }
   ],
   "source": [
    "assert equity_2020_df.shape == gold_2020_df.shape\n",
    "assert equity_2020_df.shape == bitcoin_2020_df.shape"
   ]
  },
  {
   "cell_type": "code",
   "execution_count": 64,
   "id": "d9d3b275",
   "metadata": {},
   "outputs": [],
   "source": [
    "equity_2020_df = equity_2020_df.ffill()"
   ]
  },
  {
   "cell_type": "code",
   "execution_count": 65,
   "id": "1774e723",
   "metadata": {},
   "outputs": [],
   "source": [
    "gold_2020_df[\"Daily Return\"] = gold_2020_df[\"Close\"].pct_change(1)\n",
    "equity_2020_df[\"Daily Return\"] = equity_2020_df[\"Close\"].pct_change(1)\n",
    "bitcoin_2020_df[\"Daily Return\"] = bitcoin_2020_df[\"Close\"].pct_change(1)"
   ]
  },
  {
   "cell_type": "markdown",
   "id": "2777eaa7",
   "metadata": {},
   "source": [
    "# 2. Data processing"
   ]
  },
  {
   "cell_type": "code",
   "execution_count": 66,
   "id": "e9380e55",
   "metadata": {},
   "outputs": [],
   "source": [
    "##Gold, equity and bitcoin returns calculation##\n",
    "gold_df['return'] = gold_df['Close'].pct_change(periods=1)\n",
    "equity_df['return'] = equity_df['Close'].pct_change(periods=1)\n",
    "bitcoin_df['return'] = bitcoin_df['Close'].pct_change(periods=1)"
   ]
  },
  {
   "cell_type": "markdown",
   "id": "828edb24",
   "metadata": {},
   "source": [
    "# 3. Data summaries"
   ]
  },
  {
   "cell_type": "code",
   "execution_count": 67,
   "id": "a993c302",
   "metadata": {},
   "outputs": [
    {
     "name": "stdout",
     "output_type": "stream",
     "text": [
      "4.729732844442619 2.9485276225437156 2.796264906407601\n"
     ]
    }
   ],
   "source": [
    "# return the kurtosis\n",
    "# skip the missing values\n",
    "kurt_gold = gold_df['return'].kurtosis(skipna = True)\n",
    "kurt_equity = equity_df['return'].kurtosis(skipna = True)\n",
    "kurt_bitcoin = bitcoin_df['return'].kurtosis(skipna = True)\n",
    "print(kurt_gold, kurt_equity, kurt_bitcoin)"
   ]
  },
  {
   "cell_type": "markdown",
   "id": "ce2e47db",
   "metadata": {},
   "source": [
    "#### 3.3 calculating number of extreme values outside the (mean +- 3-sigma) range to select 2 series"
   ]
  },
  {
   "cell_type": "code",
   "execution_count": 68,
   "id": "bf96a9ac",
   "metadata": {},
   "outputs": [],
   "source": [
    "std_gold = gold_df['return'].std(skipna = True)\n",
    "std_equity = equity_df['return'].std(skipna = True)\n",
    "std_bitcoin = bitcoin_df['return'].std(skipna = True)\n",
    "mean_gold = gold_df['return'].mean(skipna = True)\n",
    "mean_equity = equity_df['return'].mean(skipna = True)\n",
    "mean_bitcoin = bitcoin_df['return'].mean(skipna = True)"
   ]
  },
  {
   "cell_type": "code",
   "execution_count": 69,
   "id": "a0aa778d",
   "metadata": {},
   "outputs": [
    {
     "name": "stdout",
     "output_type": "stream",
     "text": [
      "3 3 6\n"
     ]
    }
   ],
   "source": [
    "number_gold = 0\n",
    "for it in gold_df['return']:\n",
    "        if (it < (mean_gold-3*std_gold)):\n",
    "            number_gold += 1\n",
    "        elif (it > (mean_gold+3*std_gold)):\n",
    "            number_gold += 1\n",
    "\n",
    "number_equity = 0\n",
    "for it in equity_df['return']:\n",
    "        if (it < (mean_equity-3*std_equity)):\n",
    "            number_equity += 1\n",
    "        elif (it > (mean_equity+3*std_equity)):\n",
    "            number_equity += 1\n",
    "            \n",
    "number_bitcoin = 0\n",
    "for it in bitcoin_df['return']:\n",
    "        if (it < (mean_bitcoin-3*std_bitcoin)):\n",
    "            number_bitcoin += 1\n",
    "        elif (it > (mean_bitcoin+3*std_bitcoin)):\n",
    "            number_bitcoin += 1\n",
    "print(number_gold, number_equity, number_bitcoin)"
   ]
  },
  {
   "cell_type": "markdown",
   "id": "584d3484",
   "metadata": {},
   "source": [
    "##### Given the result, we are choosing gold and bitcoin series for further analysis"
   ]
  },
  {
   "cell_type": "markdown",
   "id": "38306e89",
   "metadata": {},
   "source": [
    "# 4. Data comparison. Copulas"
   ]
  },
  {
   "cell_type": "code",
   "execution_count": 70,
   "id": "55afc846",
   "metadata": {},
   "outputs": [
    {
     "data": {
      "image/png": "[encoded data removed]",
      "text/plain": [
       "<Figure size 432x288 with 1 Axes>"
      ]
     },
     "metadata": {
      "needs_background": "light"
     },
     "output_type": "display_data"
    }
   ],
   "source": [
    "#plotting returns of bitcoin and gold for Apr-Dec\n",
    "combined_returns_df = pd.DataFrame()\n",
    "combined_returns_df['gold_daily_return'] = gold_df['return']\n",
    "combined_returns_df['bitcoin_daily_return'] = bitcoin_df['return']\n",
    "combined_returns_df.plot()\n",
    "combined_returns_df = combined_returns_df.iloc[1:]"
   ]
  },
  {
   "cell_type": "code",
   "execution_count": 71,
   "id": "af06984a",
   "metadata": {},
   "outputs": [],
   "source": [
    "import copula\n",
    "import ambhas\n",
    "from copulalib.copulalib import Copula\n",
    "## Using the Gumbel"
   ]
  },
  {
   "cell_type": "code",
   "execution_count": 72,
   "id": "d3c0e343",
   "metadata": {},
   "outputs": [],
   "source": [
    "def generateCopulas():\n",
    "    #global x,y\n",
    "    fig = plt.figure()\n",
    "    gumbel = Copula(combined_returns_df['gold_daily_return'],combined_returns_df['bitcoin_daily_return'],family='gumbel')\n",
    "    ug,vg = gumbel.generate_uv(200)\n",
    "    #fig.add_subplot(2,2,3)\n",
    "    plt.scatter(ug,vg,marker='.',color='green')\n",
    "    #plt.ylim(0,1)\n",
    "    #plt.xlim(0,1)\n",
    "    plt.title('Gumbel copula')\n",
    "    plt.show()\n",
    "############################################\n",
    "def plotData():\n",
    "    #global x,y\n",
    "    fig = plt.figure()\n",
    "    fig.add_subplot(2,2,1)\n",
    "    plt.hist(combined_returns_df['gold_daily_return'],bins=20,color='green',alpha=0.8,align='mid')\n",
    "    plt.title('Gold ETF distribution')\n",
    "    fig.add_subplot(2,2,3)\n",
    "    plt.scatter(combined_returns_df['gold_daily_return'],combined_returns_df['bitcoin_daily_return'],marker=\"o\",alpha=0.8)\n",
    "    fig.add_subplot(2,2,4)\n",
    "    plt.title('Joint Gold and Bitcoin')\n",
    "    plt.hist(combined_returns_df['bitcoin_daily_return'],bins=20,orientation='horizontal',color='red',alpha=0.8,align='mid')\n",
    "    plt.title('Bitcion ETF distribution')    \n",
    "    plt.show()\n"
   ]
  },
  {
   "cell_type": "code",
   "execution_count": 73,
   "id": "5edc6ec9",
   "metadata": {},
   "outputs": [
    {
     "data": {
      "image/png": "[encoded data removed]",
      "text/plain": [
       "<Figure size 432x288 with 1 Axes>"
      ]
     },
     "metadata": {
      "needs_background": "light"
     },
     "output_type": "display_data"
    },
    {
     "data": {
      "image/png": "[encoded data removed]",
      "text/plain": [
       "<Figure size 432x288 with 3 Axes>"
      ]
     },
     "metadata": {
      "needs_background": "light"
     },
     "output_type": "display_data"
    }
   ],
   "source": [
    "generateCopulas()\n",
    "plotData()"
   ]
  },
  {
   "cell_type": "markdown",
   "id": "2e644c65",
   "metadata": {},
   "source": [
    "## 5. Category 1 Models: Just use 1 variable.  Note that Q represents QUARTER, not question."
   ]
  },
  {
   "cell_type": "code",
   "execution_count": 74,
   "id": "4c49efbf",
   "metadata": {},
   "outputs": [],
   "source": [
    "import matplotlib.pyplot as plt\n",
    "import datetime \n",
    "from datetime import date\n",
    "from datetime import timedelta\n",
    "from pandas.plotting import register_matplotlib_converters\n",
    "from statsmodels.tsa.stattools import acf, pacf\n",
    "from statsmodels.tsa.arima.model import ARIMA\n",
    "register_matplotlib_converters()\n",
    "from time import time"
   ]
  },
  {
   "cell_type": "code",
   "execution_count": 75,
   "id": "9319f5c2",
   "metadata": {},
   "outputs": [],
   "source": [
    "## seperating the quarterly data \n",
    "q2_start_date = datetime.date(2020, 4, 1)\n",
    "q3_start_date = datetime.date(2020, 7, 1)\n",
    "q4_start_date = datetime.date(2020, 10, 1)\n",
    "q4_end_date = datetime.date(2020, 12, 31)\n",
    "\n",
    "gold_df['Date2'] = pd.to_datetime(gold_df['Date1']).dt.date\n",
    "gold_df_Q2 = gold_df.loc[(gold_df['Date2'] >= q2_start_date) & (gold_df['Date2'] < q3_start_date)]\n",
    "close_Q2 = gold_df_Q2['Close'].dropna()\n",
    "gold_df_Q3 = gold_df.loc[(gold_df['Date2'] >= q3_start_date) & (gold_df['Date2'] < q4_start_date)]\n",
    "close_Q3 = gold_df_Q3['Close'].dropna()\n",
    "gold_df_Q4 = gold_df.loc[(gold_df['Date2'] >= q4_start_date) & (gold_df['Date2'] <= q4_end_date)]\n",
    "close_Q4 = gold_df_Q4['Close'].dropna()"
   ]
  },
  {
   "cell_type": "code",
   "execution_count": 76,
   "id": "ccf508de",
   "metadata": {},
   "outputs": [],
   "source": [
    "def get_data(df, month_start, month_end, column):\n",
    "    return df[(df.index >= f\"2020-{month_start:02d}-01\") & (df.index < f\"2020-{month_end:02d}-01\")][column]\n",
    "\n",
    "def fit_arima(data, exog= None):\n",
    "    model = ARIMA(data, exog=exog, order=(1,0,1))\n",
    "    model_fit = model.fit()\n",
    "    print(model_fit.summary())\n",
    "    return model_fit"
   ]
  },
  {
   "cell_type": "code",
   "execution_count": 77,
   "id": "15f0f0be",
   "metadata": {},
   "outputs": [],
   "source": [
    "gold_q2 = get_data(gold_2020_df, 4, 6, \"Daily Return\")\n",
    "equity_q2 = get_data(equity_2020_df, 4, 6, \"Daily Return\")\n",
    "bitcoin_q2 = get_data(bitcoin_2020_df, 4, 6, \"Daily Return\")\n",
    "\n",
    "gold_q3 = get_data(gold_2020_df, 7, 9, \"Daily Return\")\n",
    "equity_q3 = get_data(equity_2020_df, 7, 9, \"Daily Return\")\n",
    "bitcoin_q3 = get_data(bitcoin_2020_df, 7, 9, \"Daily Return\")\n",
    "\n",
    "gold_q4 = get_data(gold_2020_df, 10, 12, \"Daily Return\")\n",
    "equity_q4 = get_data(equity_2020_df, 10, 12, \"Daily Return\")\n",
    "bitcoin_q4 = get_data(bitcoin_2020_df, 10, 12, \"Daily Return\")"
   ]
  },
  {
   "cell_type": "code",
   "execution_count": 78,
   "id": "8e2c66c7",
   "metadata": {},
   "outputs": [
    {
     "name": "stdout",
     "output_type": "stream",
     "text": [
      "                               SARIMAX Results                                \n",
      "==============================================================================\n",
      "Dep. Variable:           Daily Return   No. Observations:                   43\n",
      "Model:                 ARIMA(1, 0, 1)   Log Likelihood                  74.775\n",
      "Date:                Tue, 26 Oct 2021   AIC                           -141.549\n",
      "Time:                        18:29:05   BIC                           -134.504\n",
      "Sample:                             0   HQIC                          -138.951\n",
      "                                 - 43                                         \n",
      "Covariance Type:                  opg                                         \n",
      "==============================================================================\n",
      "                 coef    std err          z      P>|z|      [0.025      0.975]\n",
      "------------------------------------------------------------------------------\n",
      "const          0.0107      0.003      3.217      0.001       0.004       0.017\n",
      "ar.L1          0.7675      0.246      3.122      0.002       0.286       1.249\n",
      "ma.L1         -0.9887      0.737     -1.341      0.180      -2.434       0.457\n",
      "sigma2         0.0017      0.001      1.379      0.168      -0.001       0.004\n",
      "===================================================================================\n",
      "Ljung-Box (L1) (Q):                   0.02   Jarque-Bera (JB):                 2.35\n",
      "Prob(Q):                              0.90   Prob(JB):                         0.31\n",
      "Heteroskedasticity (H):               1.47   Skew:                             0.15\n",
      "Prob(H) (two-sided):                  0.48   Kurtosis:                         4.11\n",
      "===================================================================================\n",
      "\n",
      "Warnings:\n",
      "[1] Covariance matrix calculated using the outer product of gradients (complex-step).\n"
     ]
    },
    {
     "data": {
      "text/plain": [
       "0.2746239901920007"
      ]
     },
     "execution_count": 78,
     "metadata": {},
     "output_type": "execute_result"
    }
   ],
   "source": [
    "model = fit_arima(bitcoin_q2)\n",
    "return_pred = model.predict(start=bitcoin_q2.shape[0], end=bitcoin_q2.shape[0] + bitcoin_q3.shape[0] - 1).values\n",
    "signal = np.where(return_pred > 0, 1, -1)\n",
    "return_q3 = np.product(bitcoin_q3 * signal + 1) - 1\n",
    "return_q3"
   ]
  },
  {
   "cell_type": "code",
   "execution_count": 79,
   "id": "e7e7abdc",
   "metadata": {},
   "outputs": [
    {
     "name": "stdout",
     "output_type": "stream",
     "text": [
      "                               SARIMAX Results                                \n",
      "==============================================================================\n",
      "Dep. Variable:           Daily Return   No. Observations:                   54\n",
      "Model:                 ARIMA(1, 0, 1)   Log Likelihood                 128.817\n",
      "Date:                Tue, 26 Oct 2021   AIC                           -249.634\n",
      "Time:                        18:29:05   BIC                           -241.678\n",
      "Sample:                             0   HQIC                          -246.566\n",
      "                                 - 54                                         \n",
      "Covariance Type:                  opg                                         \n",
      "==============================================================================\n",
      "                 coef    std err          z      P>|z|      [0.025      0.975]\n",
      "------------------------------------------------------------------------------\n",
      "const          0.0047      0.004      1.334      0.182      -0.002       0.012\n",
      "ar.L1         -0.7535      0.404     -1.865      0.062      -1.545       0.038\n",
      "ma.L1          0.5899      0.488      1.209      0.227      -0.366       1.546\n",
      "sigma2         0.0005   5.63e-05      8.793      0.000       0.000       0.001\n",
      "===================================================================================\n",
      "Ljung-Box (L1) (Q):                   0.00   Jarque-Bera (JB):               166.82\n",
      "Prob(Q):                              0.96   Prob(JB):                         0.00\n",
      "Heteroskedasticity (H):               4.06   Skew:                             1.82\n",
      "Prob(H) (two-sided):                  0.00   Kurtosis:                        10.81\n",
      "===================================================================================\n",
      "\n",
      "Warnings:\n",
      "[1] Covariance matrix calculated using the outer product of gradients (complex-step).\n"
     ]
    },
    {
     "data": {
      "text/plain": [
       "0.8279433190115155"
      ]
     },
     "execution_count": 79,
     "metadata": {},
     "output_type": "execute_result"
    }
   ],
   "source": [
    "model = fit_arima(bitcoin_q3)\n",
    "return_pred = model.predict(start=bitcoin_q3.shape[0], end=bitcoin_q3.shape[0] + bitcoin_q4.shape[0] - 1).values\n",
    "signal = np.where(return_pred >0, 1, -1)\n",
    "return_q4 = np.product(bitcoin_q4 * signal + 1) - 1\n",
    "return_q4"
   ]
  },
  {
   "cell_type": "code",
   "execution_count": 80,
   "id": "700a4e89",
   "metadata": {},
   "outputs": [
    {
     "data": {
      "text/plain": [
       "1.3299404071232672"
      ]
     },
     "execution_count": 80,
     "metadata": {},
     "output_type": "execute_result"
    }
   ],
   "source": [
    "(1 + return_q3) * (1 + return_q4) - 1"
   ]
  },
  {
   "cell_type": "markdown",
   "id": "97f22946",
   "metadata": {},
   "source": [
    "We prefer the ARMA model for the ease of model and a decent return"
   ]
  },
  {
   "cell_type": "markdown",
   "id": "0be37447",
   "metadata": {},
   "source": [
    "#### GARCH model for Q2 and Q3 data"
   ]
  },
  {
   "cell_type": "code",
   "execution_count": 81,
   "id": "49158d74",
   "metadata": {},
   "outputs": [],
   "source": [
    "train_garch = gold_df_Q2['return'].dropna()\n",
    "test_garch = gold_df_Q3['return'].dropna()"
   ]
  },
  {
   "cell_type": "code",
   "execution_count": 82,
   "id": "c769a3af",
   "metadata": {},
   "outputs": [
    {
     "name": "stdout",
     "output_type": "stream",
     "text": [
      "Iteration:      1,   Func. Count:     32,   Neg. LLF: -213.00575022701113\n",
      "Optimization terminated successfully    (Exit mode 0)\n",
      "            Current function value: -213.00575033918756\n",
      "            Iterations: 5\n",
      "            Function evaluations: 32\n",
      "            Gradient evaluations: 1\n"
     ]
    },
    {
     "data": {
      "image/png": "[encoded data removed]",
      "text/plain": [
       "<Figure size 432x288 with 1 Axes>"
      ]
     },
     "metadata": {
      "needs_background": "light"
     },
     "output_type": "display_data"
    }
   ],
   "source": [
    "\n",
    "from matplotlib import pyplot\n",
    "from arch import arch_model\n",
    "model = arch_model(train_garch, mean='Zero', vol='GARCH', p=15, q=15)\n",
    "# fit model\n",
    "model_fit = model.fit()\n",
    "# forecast the test set\n",
    "yhat = model_fit.forecast(horizon=len(test_garch))\n",
    "tes_garch = pd.DataFrame({'date':test_garch.index, 'values':test_garch.values})\n",
    "pyplot.plot(tes_garch['values'])\n",
    "pyplot.plot(yhat.variance.values[-1, :])\n",
    "pyplot.show()"
   ]
  },
  {
   "cell_type": "markdown",
   "id": "226822d3",
   "metadata": {},
   "source": [
    "## 6. Category 2 Models: Just use 2 variables: the one you are trading, and an additional (called exogeneous variable) to enhance prediction\n"
   ]
  },
  {
   "cell_type": "markdown",
   "id": "d66f30f9",
   "metadata": {},
   "source": [
    "#### VARMA model "
   ]
  },
  {
   "cell_type": "code",
   "execution_count": 49,
   "id": "cb6345f0",
   "metadata": {},
   "outputs": [],
   "source": [
    "def get_data(df, month_start, month_end, column):\n",
    "    return df[(df.index >= f\"2020-{month_start:02d}-01\") & (df.index < f\"2020-{month_end:02d}-01\")][column]\n",
    "\n",
    "def fit_arima(data, exog= None):\n",
    "    model = ARIMA(data, exog=exog, order=(2,0,2))\n",
    "    model_fit = model.fit()\n",
    "    print(model_fit.summary())\n",
    "    return model_fit\n",
    "\n",
    "def fit_garch(data, garch_type=\"GARCH\"):\n",
    "    if garch_type == \"TARCH\":\n",
    "        garch = arch.arch_model(data, vol='TGARCH', p=1, o=1, q=1, power=1)\n",
    "    else:\n",
    "        garch = arch.arch_model(data, vol=garch_type, p=1, o=0, q=1)\n",
    "    garch_fitted = garch.fit()\n",
    "    print(garch_fitted.summary())\n",
    "    if garch_type != \"FIGARCH\":\n",
    "        omega = garch_fitted.params[\"omega\"]\n",
    "        alpha = garch_fitted.params[\"alpha[1]\"]\n",
    "        beta = garch_fitted.params[\"beta[1]\"]\n",
    "        print(f\"Unconditional variance: {omega/(1 - alpha - beta)}\")\n",
    "    return garch_fitted"
   ]
  },
  {
   "cell_type": "code",
   "execution_count": 50,
   "id": "106a19a4",
   "metadata": {},
   "outputs": [],
   "source": [
    "gold_q2 = get_data(gold_2020_df, 4, 6, \"Daily Return\")\n",
    "equity_q2 = get_data(equity_2020_df, 4, 6, \"Daily Return\")\n",
    "bitcoin_q2 = get_data(bitcoin_2020_df, 4, 6, \"Daily Return\")\n",
    "\n",
    "gold_q3 = get_data(gold_2020_df, 7, 9, \"Daily Return\")\n",
    "equity_q3 = get_data(equity_2020_df, 7, 9, \"Daily Return\")\n",
    "bitcoin_q3 = get_data(bitcoin_2020_df, 7, 9, \"Daily Return\")\n",
    "\n",
    "gold_q4 = get_data(gold_2020_df, 10, 12, \"Daily Return\")\n",
    "equity_q4 = get_data(equity_2020_df, 10, 12, \"Daily Return\")\n",
    "bitcoin_q4 = get_data(bitcoin_2020_df, 10, 12, \"Daily Return\")"
   ]
  },
  {
   "cell_type": "code",
   "execution_count": 51,
   "id": "5cf9a54f",
   "metadata": {},
   "outputs": [
    {
     "name": "stdout",
     "output_type": "stream",
     "text": [
      "                               SARIMAX Results                                \n",
      "==============================================================================\n",
      "Dep. Variable:           Daily Return   No. Observations:                   43\n",
      "Model:                 ARIMA(2, 0, 2)   Log Likelihood                  75.928\n",
      "Date:                Tue, 26 Oct 2021   AIC                           -137.855\n",
      "Time:                        17:49:51   BIC                           -125.527\n",
      "Sample:                             0   HQIC                          -133.309\n",
      "                                 - 43                                         \n",
      "Covariance Type:                  opg                                         \n",
      "================================================================================\n",
      "                   coef    std err          z      P>|z|      [0.025      0.975]\n",
      "--------------------------------------------------------------------------------\n",
      "const            0.0076      0.006      1.248      0.212      -0.004       0.020\n",
      "Daily Return     0.7238      0.367      1.970      0.049       0.004       1.444\n",
      "ar.L1            0.6538      0.697      0.938      0.348      -0.712       2.020\n",
      "ar.L2           -0.6787      0.416     -1.632      0.103      -1.494       0.136\n",
      "ma.L1           -0.7394      0.780     -0.948      0.343      -2.268       0.789\n",
      "ma.L2            0.5770      0.490      1.179      0.239      -0.383       1.537\n",
      "sigma2           0.0017      0.000      4.602      0.000       0.001       0.002\n",
      "===================================================================================\n",
      "Ljung-Box (L1) (Q):                   0.01   Jarque-Bera (JB):                 1.50\n",
      "Prob(Q):                              0.92   Prob(JB):                         0.47\n",
      "Heteroskedasticity (H):               1.78   Skew:                            -0.26\n",
      "Prob(H) (two-sided):                  0.29   Kurtosis:                         3.75\n",
      "===================================================================================\n",
      "\n",
      "Warnings:\n",
      "[1] Covariance matrix calculated using the outer product of gradients (complex-step).\n"
     ]
    },
    {
     "data": {
      "text/plain": [
       "0.24534617876898945"
      ]
     },
     "execution_count": 51,
     "metadata": {},
     "output_type": "execute_result"
    }
   ],
   "source": [
    "model = fit_arima(bitcoin_q2, equity_q2)\n",
    "return_pred = model.predict(exog=equity_q3, start=bitcoin_q2.shape[0], end=bitcoin_q2.shape[0] + bitcoin_q3.shape[0] - 1).values\n",
    "signal = np.where(return_pred > 0, 1, -1)\n",
    "return_q3 = np.product(bitcoin_q3 * signal + 1) - 1\n",
    "return_q3"
   ]
  },
  {
   "cell_type": "code",
   "execution_count": 52,
   "id": "9bd81264",
   "metadata": {},
   "outputs": [
    {
     "name": "stdout",
     "output_type": "stream",
     "text": [
      "                               SARIMAX Results                                \n",
      "==============================================================================\n",
      "Dep. Variable:           Daily Return   No. Observations:                   54\n",
      "Model:                 ARIMA(2, 0, 2)   Log Likelihood                 131.451\n",
      "Date:                Tue, 26 Oct 2021   AIC                           -248.901\n",
      "Time:                        17:49:51   BIC                           -234.978\n",
      "Sample:                             0   HQIC                          -243.532\n",
      "                                 - 54                                         \n",
      "Covariance Type:                  opg                                         \n",
      "================================================================================\n",
      "                   coef    std err          z      P>|z|      [0.025      0.975]\n",
      "--------------------------------------------------------------------------------\n",
      "const            0.0040      0.005      0.832      0.406      -0.005       0.013\n",
      "Daily Return     0.8777      0.495      1.772      0.076      -0.093       1.849\n",
      "ar.L1            1.0583      1.268      0.835      0.404      -1.427       3.543\n",
      "ar.L2           -0.3260      1.233     -0.264      0.791      -2.742       2.090\n",
      "ma.L1           -1.1336      1.177     -0.963      0.335      -3.441       1.173\n",
      "ma.L2            0.4430      1.100      0.403      0.687      -1.713       2.599\n",
      "sigma2           0.0005   8.96e-05      5.233      0.000       0.000       0.001\n",
      "===================================================================================\n",
      "Ljung-Box (L1) (Q):                   0.00   Jarque-Bera (JB):                88.76\n",
      "Prob(Q):                              0.99   Prob(JB):                         0.00\n",
      "Heteroskedasticity (H):               3.28   Skew:                             1.38\n",
      "Prob(H) (two-sided):                  0.02   Kurtosis:                         8.64\n",
      "===================================================================================\n",
      "\n",
      "Warnings:\n",
      "[1] Covariance matrix calculated using the outer product of gradients (complex-step).\n"
     ]
    },
    {
     "data": {
      "text/plain": [
       "0.19728057326350368"
      ]
     },
     "execution_count": 52,
     "metadata": {},
     "output_type": "execute_result"
    }
   ],
   "source": [
    "model = fit_arima(bitcoin_q3, equity_q3)\n",
    "return_pred = model.predict(exog=equity_q4, start=bitcoin_q3.shape[0], end=bitcoin_q3.shape[0] + bitcoin_q4.shape[0] - 1).values\n",
    "signal = np.where(return_pred > 0, 1, -1)\n",
    "return_q4 = np.product(bitcoin_q4 * signal + 1) - 1\n",
    "return_q4"
   ]
  },
  {
   "cell_type": "code",
   "execution_count": 48,
   "id": "0ef8afb7",
   "metadata": {},
   "outputs": [
    {
     "data": {
      "text/plain": [
       "0.4910287868280494"
      ]
     },
     "execution_count": 48,
     "metadata": {},
     "output_type": "execute_result"
    }
   ],
   "source": [
    "(1 + return_q3) * (1 + return_q4) - 1"
   ]
  },
  {
   "cell_type": "markdown",
   "id": "45c1ffca",
   "metadata": {},
   "source": [
    "We prefer the VARMA model thanks to its execellent return"
   ]
  },
  {
   "cell_type": "markdown",
   "id": "a0813e63",
   "metadata": {},
   "source": [
    "## 7 . Category 3 Models: Use all 3 variables"
   ]
  },
  {
   "cell_type": "markdown",
   "id": "a6fb8a25",
   "metadata": {},
   "source": [
    "#### VARMA model - using gold and equity etfs to enhance prediction for bitcoin "
   ]
  },
  {
   "cell_type": "code",
   "execution_count": 53,
   "id": "97b70b9e",
   "metadata": {},
   "outputs": [
    {
     "name": "stdout",
     "output_type": "stream",
     "text": [
      "                               SARIMAX Results                                \n",
      "==============================================================================\n",
      "Dep. Variable:           Daily Return   No. Observations:                   43\n",
      "Model:                 ARIMA(2, 0, 2)   Log Likelihood                  77.714\n",
      "Date:                Tue, 26 Oct 2021   AIC                           -139.428\n",
      "Time:                        17:58:00   BIC                           -125.338\n",
      "Sample:                             0   HQIC                          -134.232\n",
      "                                 - 43                                         \n",
      "Covariance Type:                  opg                                         \n",
      "================================================================================\n",
      "                   coef    std err          z      P>|z|      [0.025      0.975]\n",
      "--------------------------------------------------------------------------------\n",
      "const            0.0055      0.007      0.786      0.432      -0.008       0.019\n",
      "Daily Return     0.6466      0.377      1.715      0.086      -0.092       1.386\n",
      "Daily Return     1.0669      0.623      1.713      0.087      -0.154       2.288\n",
      "ar.L1            0.5070      0.795      0.638      0.524      -1.051       2.065\n",
      "ar.L2           -0.6367      0.455     -1.399      0.162      -1.529       0.255\n",
      "ma.L1           -0.4913      0.939     -0.523      0.601      -2.331       1.349\n",
      "ma.L2            0.4687      0.531      0.882      0.378      -0.573       1.510\n",
      "sigma2           0.0016      0.000      4.456      0.000       0.001       0.002\n",
      "===================================================================================\n",
      "Ljung-Box (L1) (Q):                   0.00   Jarque-Bera (JB):                 1.39\n",
      "Prob(Q):                              1.00   Prob(JB):                         0.50\n",
      "Heteroskedasticity (H):               1.37   Skew:                            -0.25\n",
      "Prob(H) (two-sided):                  0.57   Kurtosis:                         3.73\n",
      "===================================================================================\n",
      "\n",
      "Warnings:\n",
      "[1] Covariance matrix calculated using the outer product of gradients (complex-step).\n"
     ]
    },
    {
     "data": {
      "text/plain": [
       "0.6586818166089454"
      ]
     },
     "execution_count": 53,
     "metadata": {},
     "output_type": "execute_result"
    }
   ],
   "source": [
    "model = fit_arima(bitcoin_q2, pd.concat([equity_q2, gold_q2], axis=1))\n",
    "return_pred = model.predict(exog=pd.concat([equity_q3, gold_q3], axis=1), start=bitcoin_q2.shape[0], end=bitcoin_q2.shape[0] + bitcoin_q3.shape[0] - 1).values\n",
    "signal = np.where(return_pred > 0, 1, -1)\n",
    "return_q3 = np.product(bitcoin_q3 * signal + 1) - 1\n",
    "return_q3"
   ]
  },
  {
   "cell_type": "code",
   "execution_count": 54,
   "id": "0e04d976",
   "metadata": {},
   "outputs": [
    {
     "name": "stdout",
     "output_type": "stream",
     "text": [
      "                               SARIMAX Results                                \n",
      "==============================================================================\n",
      "Dep. Variable:           Daily Return   No. Observations:                   54\n",
      "Model:                 ARIMA(2, 0, 2)   Log Likelihood                 139.961\n",
      "Date:                Tue, 26 Oct 2021   AIC                           -263.922\n",
      "Time:                        17:58:05   BIC                           -248.010\n",
      "Sample:                             0   HQIC                          -257.785\n",
      "                                 - 54                                         \n",
      "Covariance Type:                  opg                                         \n",
      "================================================================================\n",
      "                   coef    std err          z      P>|z|      [0.025      0.975]\n",
      "--------------------------------------------------------------------------------\n",
      "const            0.0022      0.004      0.571      0.568      -0.005       0.010\n",
      "Daily Return     0.5863      0.510      1.150      0.250      -0.413       1.585\n",
      "Daily Return     0.9100      0.383      2.375      0.018       0.159       1.661\n",
      "ar.L1           -0.1336     15.060     -0.009      0.993     -29.650      29.383\n",
      "ar.L2            0.1546      7.876      0.020      0.984     -15.282      15.591\n",
      "ma.L1           -0.0565     15.055     -0.004      0.997     -29.563      29.450\n",
      "ma.L2           -0.0747      5.003     -0.015      0.988      -9.880       9.730\n",
      "sigma2           0.0003   5.83e-05      5.627      0.000       0.000       0.000\n",
      "===================================================================================\n",
      "Ljung-Box (L1) (Q):                   0.00   Jarque-Bera (JB):               143.24\n",
      "Prob(Q):                              0.96   Prob(JB):                         0.00\n",
      "Heteroskedasticity (H):               2.49   Skew:                             1.60\n",
      "Prob(H) (two-sided):                  0.06   Kurtosis:                        10.31\n",
      "===================================================================================\n",
      "\n",
      "Warnings:\n",
      "[1] Covariance matrix calculated using the outer product of gradients (complex-step).\n"
     ]
    },
    {
     "data": {
      "text/plain": [
       "0.2779674731863637"
      ]
     },
     "execution_count": 54,
     "metadata": {},
     "output_type": "execute_result"
    }
   ],
   "source": [
    "model = fit_arima(bitcoin_q3, pd.concat([equity_q3, gold_q3], axis=1))\n",
    "return_pred = model.predict(exog=pd.concat([equity_q4, gold_q4], axis=1), start=bitcoin_q3.shape[0], end=bitcoin_q3.shape[0] + bitcoin_q4.shape[0] - 1).values\n",
    "signal = np.where(return_pred > 0, 1, -1)\n",
    "return_q4 = np.product(bitcoin_q4 * signal + 1) - 1\n",
    "return_q4"
   ]
  },
  {
   "cell_type": "code",
   "execution_count": 55,
   "id": "f1e4a228",
   "metadata": {},
   "outputs": [
    {
     "data": {
      "text/plain": [
       "1.1197414099919016"
      ]
     },
     "execution_count": 55,
     "metadata": {},
     "output_type": "execute_result"
    }
   ],
   "source": [
    "(1 + return_q3) * (1 + return_q4) - 1"
   ]
  },
  {
   "cell_type": "code",
   "execution_count": 56,
   "id": "8d63fdcb",
   "metadata": {},
   "outputs": [
    {
     "data": {
      "text/plain": [
       "array([ 1.57070037e-02, -9.44367670e-04,  2.55913060e-03,  1.96691352e-03,\n",
       "        1.57036352e-02, -1.49269604e-02,  7.23031658e-03,  9.89666705e-03,\n",
       "        2.29486744e-02,  2.69893318e-03, -1.90528048e-02,  2.82613038e-03,\n",
       "        4.89422204e-05,  1.11776645e-03, -3.85773506e-04,  9.73863928e-03,\n",
       "        7.35758657e-03, -6.30047904e-03,  4.92247949e-03, -1.02416565e-02,\n",
       "        1.07951676e-03, -2.98493573e-02,  1.08329735e-03,  3.59468459e-03,\n",
       "        1.70689560e-02,  2.29169196e-02,  7.20819247e-03,  3.83918400e-02,\n",
       "        4.33549182e-03, -2.20663715e-02,  9.88107699e-03,  2.70116095e-03,\n",
       "       -9.24195556e-04,  1.63230314e-02,  9.69874651e-03, -1.01224156e-03,\n",
       "       -6.81175126e-03,  4.23650325e-03,  7.05047327e-03, -1.55097211e-02,\n",
       "       -2.91314866e-03,  4.94748056e-04, -2.84972999e-03, -1.50684600e-02])"
      ]
     },
     "execution_count": 56,
     "metadata": {},
     "output_type": "execute_result"
    }
   ],
   "source": [
    "return_pred"
   ]
  },
  {
   "cell_type": "markdown",
   "id": "1d848f69",
   "metadata": {},
   "source": [
    "Compare models using cumulative return and volatility"
   ]
  },
  {
   "cell_type": "code",
   "execution_count": 43,
   "id": "dbe85b64",
   "metadata": {},
   "outputs": [],
   "source": [
    "data1 = get_data(gold_2020_df, 4, 6, \"Daily Return\").values\n",
    "data2 = get_data(equity_2020_df, 4, 6, \"Daily Return\").values\n",
    "data3 = get_data(bitcoin_2020_df, 4, 6, \"Daily Return\").values"
   ]
  },
  {
   "cell_type": "code",
   "execution_count": 44,
   "id": "932979c2",
   "metadata": {},
   "outputs": [
    {
     "data": {
      "text/plain": [
       "(-6.770073990206868,\n",
       " 1.3918113991609748e-07,\n",
       " array([-4.6556178 , -3.95031996, -3.60224723]))"
      ]
     },
     "execution_count": 44,
     "metadata": {},
     "output_type": "execute_result"
    }
   ],
   "source": [
    "coint(data1, np.array([data2, data3]).T)"
   ]
  },
  {
   "cell_type": "code",
   "execution_count": 45,
   "id": "200cb64e",
   "metadata": {},
   "outputs": [
    {
     "data": {
      "text/plain": [
       "(-2.9632033426345634,\n",
       " 0.25664646755282716,\n",
       " array([-4.6556178 , -3.95031996, -3.60224723]))"
      ]
     },
     "execution_count": 45,
     "metadata": {},
     "output_type": "execute_result"
    }
   ],
   "source": [
    "coint(data2, np.array([data1, data3]).T)\n"
   ]
  },
  {
   "cell_type": "code",
   "execution_count": 46,
   "id": "68ae773b",
   "metadata": {},
   "outputs": [
    {
     "data": {
      "text/plain": [
       "(-6.302783707318395,\n",
       " 1.7708156529505735e-06,\n",
       " array([-4.6556178 , -3.95031996, -3.60224723]))"
      ]
     },
     "execution_count": 46,
     "metadata": {},
     "output_type": "execute_result"
    }
   ],
   "source": [
    "coint(data3, np.array([data1, data2]).T)\n"
   ]
  },
  {
   "cell_type": "markdown",
   "id": "c537f1c1",
   "metadata": {},
   "source": [
    "p-value < 0.01 for all tests, we conclude that there are cointegrating vectors."
   ]
  },
  {
   "cell_type": "markdown",
   "id": "5ddefff3",
   "metadata": {},
   "source": [
    "## Vector Error Correction Model"
   ]
  },
  {
   "cell_type": "code",
   "execution_count": 53,
   "id": "c8ed9922",
   "metadata": {},
   "outputs": [
    {
     "data": {
      "text/plain": [
       "array([[ 0.13556197,  0.23558455,  0.62885348],\n",
       "       [-5.47064699,  1.28680127,  5.18384572],\n",
       "       [ 0.3652641 , -0.05713367,  0.69186956],\n",
       "       [ 2.18335652, -1.11565193, -0.06770459],\n",
       "       [ 0.85251616, -0.25127168,  0.39875552],\n",
       "       [ 1.1780521 , -0.3791506 ,  0.2010985 ],\n",
       "       [ 1.07951369, -0.37894314,  0.29942945],\n",
       "       [ 1.09025149, -0.37489772,  0.28464623],\n",
       "       [ 1.11881718, -0.39110785,  0.27229067],\n",
       "       [ 1.08028455, -0.36528335,  0.2849988 ],\n",
       "       [ 1.11255397, -0.38605768,  0.27350371],\n",
       "       [ 1.08927925, -0.37290316,  0.28362391],\n",
       "       [ 1.10475952, -0.38126707,  0.27650755],\n",
       "       [ 1.09484885, -0.37576964,  0.28092079],\n",
       "       [ 1.10071012, -0.37897674,  0.27826662],\n",
       "       [ 1.09743442, -0.37727987,  0.27984544],\n",
       "       [ 1.09917249, -0.37815179,  0.2789793 ],\n",
       "       [ 1.09830459, -0.37771941,  0.27941482],\n",
       "       [ 1.09869534, -0.377905  ,  0.27920966],\n",
       "       [ 1.09854726, -0.37784461,  0.27929735],\n",
       "       [ 1.09858382, -0.37785241,  0.27926859],\n",
       "       [ 1.09859219, -0.3778632 ,  0.27927101],\n",
       "       [ 1.0985702 , -0.37784788,  0.27927769],\n",
       "       [ 1.09859228, -0.37786171,  0.27926943],\n",
       "       [ 1.09857478, -0.37785136,  0.27927658],\n",
       "       [ 1.09858711, -0.37785837,  0.27927126],\n",
       "       [ 1.09857906, -0.37785391,  0.27927485],\n",
       "       [ 1.09858401, -0.3778566 ,  0.27927259],\n",
       "       [ 1.09858113, -0.37785507,  0.27927394],\n",
       "       [ 1.09858271, -0.37785589,  0.27927317],\n",
       "       [ 1.09858189, -0.37785547,  0.27927358],\n",
       "       [ 1.09858229, -0.37785567,  0.27927338],\n",
       "       [ 1.09858212, -0.37785559,  0.27927347],\n",
       "       [ 1.09858218, -0.37785561,  0.27927343],\n",
       "       [ 1.09858217, -0.37785561,  0.27927344],\n",
       "       [ 1.09858216, -0.3778556 ,  0.27927345],\n",
       "       [ 1.09858217, -0.37785561,  0.27927344],\n",
       "       [ 1.09858216, -0.37785561,  0.27927345],\n",
       "       [ 1.09858217, -0.37785561,  0.27927344],\n",
       "       [ 1.09858216, -0.37785561,  0.27927344],\n",
       "       [ 1.09858217, -0.37785561,  0.27927344],\n",
       "       [ 1.09858216, -0.37785561,  0.27927344],\n",
       "       [ 1.09858217, -0.37785561,  0.27927344],\n",
       "       [ 1.09858216, -0.37785561,  0.27927344],\n",
       "       [ 1.09858217, -0.37785561,  0.27927344],\n",
       "       [ 1.09858216, -0.37785561,  0.27927344],\n",
       "       [ 1.09858216, -0.37785561,  0.27927344],\n",
       "       [ 1.09858216, -0.37785561,  0.27927344],\n",
       "       [ 1.09858216, -0.37785561,  0.27927344],\n",
       "       [ 1.09858216, -0.37785561,  0.27927344],\n",
       "       [ 1.09858216, -0.37785561,  0.27927344],\n",
       "       [ 1.09858216, -0.37785561,  0.27927344],\n",
       "       [ 1.09858216, -0.37785561,  0.27927344],\n",
       "       [ 1.09858216, -0.37785561,  0.27927344]])"
      ]
     },
     "execution_count": 53,
     "metadata": {},
     "output_type": "execute_result"
    }
   ],
   "source": [
    "data_q2 = np.array([data1, data2, data3]).T\n",
    "model = VECM(data_q2, coint_rank=1)\n",
    "vecm_res = model.fit()\n",
    "res = vecm_res.predict(steps=54)\n",
    "row_sums = res.sum(axis=1)\n",
    "weights = res / row_sums[:, np.newaxis]\n",
    "weights"
   ]
  },
  {
   "cell_type": "code",
   "execution_count": 54,
   "id": "f1b8c4e8",
   "metadata": {},
   "outputs": [],
   "source": [
    "data1 = get_data(gold_2020_df, 7, 9, \"Daily Return\").values\n",
    "data2 = get_data(equity_2020_df, 7, 9, \"Daily Return\").values\n",
    "data3 = get_data(bitcoin_2020_df, 7, 9, \"Daily Return\").values\n",
    "data_q3 = np.array([data1, data2, data3]).T"
   ]
  },
  {
   "cell_type": "code",
   "execution_count": 55,
   "id": "b2fabac4",
   "metadata": {},
   "outputs": [
    {
     "data": {
      "text/plain": [
       "0.09638336501128308"
      ]
     },
     "execution_count": 55,
     "metadata": {},
     "output_type": "execute_result"
    }
   ],
   "source": [
    "return_q3 = weights * data_q3\n",
    "total_return_q3 = return_q3.sum(axis=1)\n",
    "portfolio_return_q3 = np.product(total_return_q3 + 1) - 1\n",
    "portfolio_return_q3"
   ]
  },
  {
   "cell_type": "code",
   "execution_count": 56,
   "id": "934f422f",
   "metadata": {},
   "outputs": [
    {
     "data": {
      "text/plain": [
       "(-8.101688534861617,\n",
       " 4.314595738799946e-11,\n",
       " array([-4.57760481, -3.90590515, -3.57075455]))"
      ]
     },
     "execution_count": 56,
     "metadata": {},
     "output_type": "execute_result"
    }
   ],
   "source": [
    "coint(data1, np.array([data2, data3]).T)"
   ]
  },
  {
   "cell_type": "code",
   "execution_count": 57,
   "id": "7810c47b",
   "metadata": {},
   "outputs": [
    {
     "data": {
      "text/plain": [
       "(-6.075979715587673,\n",
       " 5.7066299715542595e-06,\n",
       " array([-4.57760481, -3.90590515, -3.57075455]))"
      ]
     },
     "execution_count": 57,
     "metadata": {},
     "output_type": "execute_result"
    }
   ],
   "source": [
    "coint(data2, np.array([data1, data3]).T)"
   ]
  },
  {
   "cell_type": "code",
   "execution_count": 58,
   "id": "daf80c3c",
   "metadata": {},
   "outputs": [
    {
     "data": {
      "text/plain": [
       "(-8.610814206944108,\n",
       " 1.5148202009301324e-12,\n",
       " array([-4.57760481, -3.90590515, -3.57075455]))"
      ]
     },
     "execution_count": 58,
     "metadata": {},
     "output_type": "execute_result"
    }
   ],
   "source": [
    "coint(data3, np.array([data1, data2]).T)"
   ]
  },
  {
   "cell_type": "markdown",
   "id": "357e4eef",
   "metadata": {},
   "source": [
    "p-value < 0.01 for all tests, we conclude that there are cointegrating vectors."
   ]
  },
  {
   "cell_type": "code",
   "execution_count": 63,
   "id": "4ff1f088",
   "metadata": {},
   "outputs": [
    {
     "data": {
      "text/plain": [
       "array([[ 0.13556197,  0.23558455,  0.62885348],\n",
       "       [-5.47064699,  1.28680127,  5.18384572],\n",
       "       [ 0.3652641 , -0.05713367,  0.69186956],\n",
       "       [ 2.18335652, -1.11565193, -0.06770459],\n",
       "       [ 0.85251616, -0.25127168,  0.39875552],\n",
       "       [ 1.1780521 , -0.3791506 ,  0.2010985 ],\n",
       "       [ 1.07951369, -0.37894314,  0.29942945],\n",
       "       [ 1.09025149, -0.37489772,  0.28464623],\n",
       "       [ 1.11881718, -0.39110785,  0.27229067],\n",
       "       [ 1.08028455, -0.36528335,  0.2849988 ],\n",
       "       [ 1.11255397, -0.38605768,  0.27350371],\n",
       "       [ 1.08927925, -0.37290316,  0.28362391],\n",
       "       [ 1.10475952, -0.38126707,  0.27650755],\n",
       "       [ 1.09484885, -0.37576964,  0.28092079],\n",
       "       [ 1.10071012, -0.37897674,  0.27826662],\n",
       "       [ 1.09743442, -0.37727987,  0.27984544],\n",
       "       [ 1.09917249, -0.37815179,  0.2789793 ],\n",
       "       [ 1.09830459, -0.37771941,  0.27941482],\n",
       "       [ 1.09869534, -0.377905  ,  0.27920966],\n",
       "       [ 1.09854726, -0.37784461,  0.27929735],\n",
       "       [ 1.09858382, -0.37785241,  0.27926859],\n",
       "       [ 1.09859219, -0.3778632 ,  0.27927101],\n",
       "       [ 1.0985702 , -0.37784788,  0.27927769],\n",
       "       [ 1.09859228, -0.37786171,  0.27926943],\n",
       "       [ 1.09857478, -0.37785136,  0.27927658],\n",
       "       [ 1.09858711, -0.37785837,  0.27927126],\n",
       "       [ 1.09857906, -0.37785391,  0.27927485],\n",
       "       [ 1.09858401, -0.3778566 ,  0.27927259],\n",
       "       [ 1.09858113, -0.37785507,  0.27927394],\n",
       "       [ 1.09858271, -0.37785589,  0.27927317],\n",
       "       [ 1.09858189, -0.37785547,  0.27927358],\n",
       "       [ 1.09858229, -0.37785567,  0.27927338],\n",
       "       [ 1.09858212, -0.37785559,  0.27927347],\n",
       "       [ 1.09858218, -0.37785561,  0.27927343],\n",
       "       [ 1.09858217, -0.37785561,  0.27927344],\n",
       "       [ 1.09858216, -0.3778556 ,  0.27927345],\n",
       "       [ 1.09858217, -0.37785561,  0.27927344],\n",
       "       [ 1.09858216, -0.37785561,  0.27927345],\n",
       "       [ 1.09858217, -0.37785561,  0.27927344],\n",
       "       [ 1.09858216, -0.37785561,  0.27927344],\n",
       "       [ 1.09858217, -0.37785561,  0.27927344],\n",
       "       [ 1.09858216, -0.37785561,  0.27927344],\n",
       "       [ 1.09858217, -0.37785561,  0.27927344],\n",
       "       [ 1.09858216, -0.37785561,  0.27927344]])"
      ]
     },
     "execution_count": 63,
     "metadata": {},
     "output_type": "execute_result"
    }
   ],
   "source": [
    "model = VECM(data_q3, coint_rank=1)\n",
    "vecm_res = model.fit()\n",
    "res = vecm_res.predict(steps=44)\n",
    "row_sums = res.sum(axis=1)\n",
    "weights = res / row_sums[:, np.newaxis]\n",
    "weights"
   ]
  },
  {
   "cell_type": "code",
   "execution_count": 64,
   "id": "3e9429c7",
   "metadata": {},
   "outputs": [],
   "source": [
    "data1 = get_data(gold_2020_df, 10, 12, \"Daily Return\").values\n",
    "data2 = get_data(equity_2020_df, 10, 12, \"Daily Return\").values\n",
    "data3 = get_data(bitcoin_2020_df, 10, 12, \"Daily Return\").values\n",
    "data_q4 = np.array([data1, data2, data3]).T"
   ]
  },
  {
   "cell_type": "code",
   "execution_count": 65,
   "id": "0c25909b",
   "metadata": {},
   "outputs": [
    {
     "data": {
      "text/plain": [
       "0.037255315642937825"
      ]
     },
     "execution_count": 65,
     "metadata": {},
     "output_type": "execute_result"
    }
   ],
   "source": [
    "return_q4 = weights * data_q4\n",
    "total_return_q4 = return_q4.sum(axis=1)\n",
    "portfolio_return_q4 = np.product(total_return_q4 + 1) - 1\n",
    "portfolio_return_q4"
   ]
  },
  {
   "cell_type": "code",
   "execution_count": 66,
   "id": "31d40d20",
   "metadata": {},
   "outputs": [
    {
     "data": {
      "text/plain": [
       "0.13722947334044466"
      ]
     },
     "execution_count": 66,
     "metadata": {},
     "output_type": "execute_result"
    }
   ],
   "source": [
    "(1 + portfolio_return_q3) * (1 + portfolio_return_q4) - 1"
   ]
  },
  {
   "cell_type": "markdown",
   "id": "3a704c55",
   "metadata": {},
   "source": [
    "We prefer the VARMA model because it has a better return"
   ]
  },
  {
   "cell_type": "markdown",
   "id": "7e90bd01",
   "metadata": {},
   "source": [
    "# 8. Combining the models"
   ]
  },
  {
   "cell_type": "markdown",
   "id": "f7b86716",
   "metadata": {},
   "source": [
    "We use the Modern Portfolio Theory to choose a mixture of low-risk and riskier investment than going entirely with low risk choices and also to allocate assets in a portifolio,the 2 VARMA MODEL have high expected returns of,we will assign each model with 50% of our capital since the returns are close to each other. The weighted average of the 2 models is 111.979%."
   ]
  },
  {
   "cell_type": "code",
   "execution_count": null,
   "id": "32bcf07b",
   "metadata": {},
   "outputs": [],
   "source": []
  }
 ],
 "metadata": {
  "kernelspec": {
   "display_name": "Python 3",
   "language": "python",
   "name": "python3"
  },
  "language_info": {
   "codemirror_mode": {
    "name": "ipython",
    "version": 3
   },
   "file_extension": ".py",
   "mimetype": "text/x-python",
   "name": "python",
   "nbconvert_exporter": "python",
   "pygments_lexer": "ipython3",
   "version": "3.9.5"
  }
 },
 "nbformat": 4,
 "nbformat_minor": 5
}
